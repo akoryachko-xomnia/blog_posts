{
 "cells": [
  {
   "attachments": {},
   "cell_type": "markdown",
   "metadata": {},
   "source": [
    "# How to save time on data visualization"
   ]
  },
  {
   "attachments": {},
   "cell_type": "markdown",
   "metadata": {},
   "source": [
    "A picture is worth a thousand words. Good visualizations speak for themselves allowing to save the expensive stakeholders' time while presenting a data project. By saving his own while time preparing the graphs a data professional wastes time and attention of his audience on explanations rather than using it to talk about the impliocations. Though tempting, such tradeoff can push a decision on a critical project by weeks or months.\n",
    "\n",
    "\n",
    "In this blog, I will share the pieces of code that make visualizations easier to read and approaches for saving time while putting the corresponding code together. The material is intended for the Data Scientists who spend significant time exploring the data and using the results to help stakeholders make business decisions. The teck stack will be limited to using Python's standard visualization library in a Jupyter notebook."
   ]
  },
  {
   "attachments": {},
   "cell_type": "markdown",
   "metadata": {},
   "source": [
    "## Visualization libraries \n",
    "Python community owns a number of powerful visualization libraries.\n",
    "<a href=\"https://seaborn.pydata.org/\">Seaborn</a>, <a href=\"https://plotly.com/\">Plotly</a>, <a href=\"https://altair-viz.github.io/\">Altair</a>, <a href=\"https://www.pygal.org\">Pygal</a>, and <a href=\"https://plotnine.readthedocs.io/\">Plotnine</a> are among the many others.\n",
    "I get very excited reading about their capabilities. However, I tend to stick to the basics when working on an actual project for 2 major reasons:\n",
    "<ol>\n",
    "  <li> <b>Fine Tuning</b>. I still need to add details to the plot even in a rare case when the plotting function from one of the libraries fits perfectly for the data I have in hand. For example, such a function renders the plot that I saw in <a href=\"https://medium.com/@jordan.johnson_35348/is-ruby-on-rails-on-the-next-train-out-cc580d9d0f14\">this article</a>:\n",
    "<div style=\"margin-left: 0px;\">\n",
    "<img src=\"https://miro.medium.com/v2/resize:fit:786/0*FODqxJyqPrG7CwX7\" width=\"400\"/>\n",
    "</div>\n",
    "Looks slick, but I will have to use words to explain what was measured for each of the programming languages. Adding and x label or writing a title is typically possible but require a dive into documentation of that specific library. Next time when the data  fit better to a function from a different library I will have to dive again for all the adjustments I learned how to do with the previous plot. Not impossible but tedious. Keeping track of all the plotting functions across the existing libraries is also a liability.\n",
    "  </li>\n",
    "\n",
    "  <li> <b>Sufficiency</b>. The standard plotting library provides the majority of the reqired functionality. The result might not be as flashy or interactive but has all the means for bring the point across efficiently. For example, the above visualization can be delivered with the standard library in the way shown below. The plot will still benefit from grid lines, Y label, and moving the percentage sign from the X label to the X ticks, but the functionality is there.\n",
    "  </li>"
   ]
  },
  {
   "cell_type": "code",
   "execution_count": null,
   "metadata": {},
   "outputs": [],
   "source": [
    "import matplotlib.pyplot as plt\n",
    "\n",
    "programming_languages = ('JavaScript',\n",
    "                         'HTML/CSS',\n",
    "                         'SQL',\n",
    "                         'Python',\n",
    "                         'TypeScript',\n",
    "                         'Node.js',\n",
    "                         'Java',\n",
    "                         'C#',\n",
    "                         'Bash/Shell')\n",
    "\n",
    "past_year_use = (68.62, 55.9, 50.73, 41.53, 36.42, 36.19, 34.51, 29.81, 27.63)\n",
    "\n",
    "plt.barh(programming_languages, past_year_use)\n",
    "plt.gca().invert_yaxis()\n",
    "plt.title('Percentage of developers who used the language\\nin a project in the past year')\n",
    "plt.xlabel('% of developers')"
   ]
  },
  {
   "cell_type": "code",
   "execution_count": null,
   "metadata": {},
   "outputs": [],
   "source": []
  }
 ],
 "metadata": {
  "kernelspec": {
   "display_name": "visual_bp",
   "language": "python",
   "name": "python3"
  },
  "language_info": {
   "codemirror_mode": {
    "name": "ipython",
    "version": 3
   },
   "file_extension": ".py",
   "mimetype": "text/x-python",
   "name": "python",
   "nbconvert_exporter": "python",
   "pygments_lexer": "ipython3",
   "version": "3.9.16"
  },
  "orig_nbformat": 4
 },
 "nbformat": 4,
 "nbformat_minor": 2
}
